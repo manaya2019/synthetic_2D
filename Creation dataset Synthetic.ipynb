{
 "cells": [
  {
   "cell_type": "markdown",
   "metadata": {},
   "source": [
    "# Apprendre à utiliser et visualiser un Dataset Synthetic\n",
    "\n",
    "A la fin de ce workshop vous saurez:\n",
    "\n",
    "-adopter un workflow de base avec github ( Develop, Verify, Commit)\n",
    "-Generer un datset de classification 2D avec la librairie sklearn\n",
    "-Visualiser les classes du dataset sur un graphique 2D\n",
    "- Visualiser les predictions de votre réseau sur un graphie 2D\n",
    "-..."
   ]
  },
  {
   "cell_type": "code",
   "execution_count": null,
   "metadata": {},
   "outputs": [],
   "source": [
    "#importer les librairies utiles\n",
    "\n",
    "import numpy as np\n",
    "import matplotlib.pyplot as plt\n",
    "\n",
    "from sklearn.datasets import make_moons, make_circles, make_classification"
   ]
  },
  {
   "cell_type": "code",
   "execution_count": null,
   "metadata": {},
   "outputs": [],
   "source": [
    "# créer un dataset séparable par une ligne droite\n",
    "\n",
    "train_size = 100\n",
    "test_size = 50\n",
    "total_size = train_size+ test_size\n",
    "\n",
    "print(\"Total size: \", total_size)\n",
    "\n",
    "X, y = make_classification(n_samples=total_size, n_features=2, \n",
    "                           n_redundant=0,n_informative=2, random_state=1, n_clusters_per_class=1)\n"
   ]
  },
  {
   "cell_type": "code",
   "execution_count": null,
   "metadata": {},
   "outputs": [],
   "source": [
    "X.shape, y.shape"
   ]
  },
  {
   "cell_type": "code",
   "execution_count": null,
   "metadata": {},
   "outputs": [],
   "source": [
    "y = y.reshape(-1, 1)\n",
    "y.shape"
   ]
  },
  {
   "cell_type": "code",
   "execution_count": null,
   "metadata": {},
   "outputs": [],
   "source": [
    "X[:10], y[:10] "
   ]
  },
  {
   "cell_type": "code",
   "execution_count": null,
   "metadata": {},
   "outputs": [],
   "source": [
    "#Séparation du train/test\n",
    "\n",
    "X_train, y_train = (X[:train_size], y[:train_size])\n",
    "X_test, y_test = (X[-test_size:], y[-test_size:])\n",
    "\n",
    "assert X_test.shape[0] + X_train.shape[0] == total_size\n",
    "assert y_test.shape[0] + y_train.shape[0] == total_size\n",
    "\n",
    "print(X_train.shape, y_train.shape)\n",
    "print(X_test.shape, y_test.shape)"
   ]
  },
  {
   "cell_type": "code",
   "execution_count": null,
   "metadata": {},
   "outputs": [],
   "source": [
    "# Visualiser le dataset d'une manière informative\n",
    "\n",
    "plt.scatter(X_train[:,0], X_train[:,1],\n",
    "           c=y_train[:,0],\n",
    "           cmap=plt.cm.jet)"
   ]
  },
  {
   "cell_type": "code",
   "execution_count": null,
   "metadata": {},
   "outputs": [],
   "source": [
    "# Créer un dataset séparable par une ligne droite en 2D\n",
    "\n",
    "def split_dataset(X, y, train_pct=0.66):\n",
    "    \"\"\" Va séparer les datasets avec respect pour le pourcentage du dataset à mettre dans le train set.\n",
    "    Warning: La dimension des exemples doit être la première.\n",
    "    \n",
    "    :X mes exemples, shape=(m, -1), m -> dimensions des exemples\n",
    "    :y mes labels, shape=(m, -1), m -> dimensions des exemples\n",
    "    :train_pct (default=0.66) Optionnal, c'est un pourcentage qui va séparer le de dataset avec train_pct * total_size dans le train set.\n",
    "    \n",
    "    return X_train, y_train, X_test, y_test \n",
    "    \n",
    "\n",
    "    >>> X_train, y_train, X_test, y_test = split_dataset(X, y)\n",
    "    \"\"\"\n",
    "    # 1ere dimension -> celle des exemples\n",
    "    total_size = X.shape[0]\n",
    "    \n",
    "    if y.ndim == 1:\n",
    "        y = y.reshape(-1, 1)\n",
    "    \n",
    "    # On récupère `train_pct` % du dataset pour le train set, aussi il faut convertir en entier pour numpy ...\n",
    "    train_size = int(train_pct * total_size)\n",
    "    # ... et on met le reste danss le test set\n",
    "    test_size  = total_size - train_size \n",
    "    \n",
    "    # On met les `train_size` premier exemples/labels dans le train set ...\n",
    "    X_train, y_train = (X[:train_size], y[:train_size])\n",
    "    # ... et les test_size derniers exemples/labels dans le test set.\n",
    "    X_test , y_test  = (X[-test_size:], y[-test_size:])\n",
    "\n",
    "    # On s'assure que tous les exemples soient présents dans le test set ou le train set.\n",
    "    assert X_test.shape[0] + X_train.shape[0] == total_size\n",
    "    assert y_test.shape[0] + y_train.shape[0] == total_size\n",
    "    \n",
    "    return X_train, y_train, X_test, y_test \n",
    "\n",
    "\n",
    "\n",
    "X, y = make_classification(n_samples=200,\n",
    "                          n_features=2, n_redundant=0, n_informative=2,\n",
    "                          random_state=1, n_clusters_per_class=1)\n",
    "\n",
    "for each in (X, y):\n",
    "    print(each.shape)\n",
    "\n",
    "print()\n",
    "\n",
    "X_train, y_train, X_test, y_test = split_dataset(X, y)\n",
    "\n",
    "for each in (X_train, y_train, X_test, y_test):\n",
    "    print(each.shape)"
   ]
  },
  {
   "cell_type": "code",
   "execution_count": null,
   "metadata": {},
   "outputs": [],
   "source": [
    "X_train[:10], y_train[:10]"
   ]
  },
  {
   "cell_type": "code",
   "execution_count": null,
   "metadata": {},
   "outputs": [],
   "source": [
    "X_test[:10], y_test[:10"
   ]
  },
  {
   "cell_type": "code",
   "execution_count": null,
   "metadata": {},
   "outputs": [],
   "source": [
    "# Visualiser le dataset d'une manière informative\n",
    "\n",
    "plt.scatter(X_train[:, 0], X_train[:, 1],\n",
    "           c=y_train[:, 0],\n",
    "           cmap=plt.cm.jet)"
   ]
  },
  {
   "cell_type": "code",
   "execution_count": null,
   "metadata": {},
   "outputs": [],
   "source": [
    "# Refactoriser plot_dataset\n",
    "\n",
    "def plotdataset(X, y):\n",
    "    \"\"\"\n",
    "    Permet d'afficher les classes `y` d'exemples à é features ` X` \n",
    "    Warning: la dimension des exemples doit etre en premiere.\n",
    "    \n",
    "    Soit m , le nombre d'exemples sc\n",
    "    \"\"\"\n",
    "    plt.scatter(X[:,0], X[:,1],\n",
    "                c=y[:,0],\n",
    "                cmap=plt.cm.jet)\n",
    "    return None\n",
    "\n",
    "plotdataset(x_train, y_train)"
   ]
  }
 ],
 "metadata": {
  "kernelspec": {
   "display_name": "Python 3",
   "language": "python",
   "name": "python3"
  },
  "language_info": {
   "codemirror_mode": {
    "name": "ipython",
    "version": 3
   },
   "file_extension": ".py",
   "mimetype": "text/x-python",
   "name": "python",
   "nbconvert_exporter": "python",
   "pygments_lexer": "ipython3",
   "version": "3.7.1"
  }
 },
 "nbformat": 4,
 "nbformat_minor": 2
}
